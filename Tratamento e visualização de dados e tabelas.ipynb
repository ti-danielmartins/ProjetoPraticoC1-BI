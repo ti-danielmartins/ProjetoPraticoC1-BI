{
 "cells": [
  {
   "cell_type": "code",
   "execution_count": 6,
   "id": "1935e470",
   "metadata": {},
   "outputs": [],
   "source": [
    "import pandas as pd"
   ]
  },
  {
   "cell_type": "code",
   "execution_count": 7,
   "id": "fcc3ef85",
   "metadata": {},
   "outputs": [],
   "source": [
    "df = pd.read_csv(r'C:\\Users\\DAN\\Downloads\\Trabalho Business Inteligence - Copia\\db.csv',sep=';',encoding='latin-1',low_memory=False)"
   ]
  },
  {
   "cell_type": "code",
   "execution_count": 8,
   "id": "59f80dda",
   "metadata": {},
   "outputs": [
    {
     "data": {
      "text/html": [
       "<div>\n",
       "<style scoped>\n",
       "    .dataframe tbody tr th:only-of-type {\n",
       "        vertical-align: middle;\n",
       "    }\n",
       "\n",
       "    .dataframe tbody tr th {\n",
       "        vertical-align: top;\n",
       "    }\n",
       "\n",
       "    .dataframe thead th {\n",
       "        text-align: right;\n",
       "    }\n",
       "</style>\n",
       "<table border=\"1\" class=\"dataframe\">\n",
       "  <thead>\n",
       "    <tr style=\"text-align: right;\">\n",
       "      <th></th>\n",
       "      <th>DataNotificacao</th>\n",
       "      <th>DataCadastro</th>\n",
       "      <th>DataDiagnostico</th>\n",
       "      <th>DataColeta_RT_PCR</th>\n",
       "      <th>DataColetaTesteRapido</th>\n",
       "      <th>DataColetaSorologia</th>\n",
       "      <th>DataColetaSorologiaIGG</th>\n",
       "      <th>DataEncerramento</th>\n",
       "      <th>DataObito</th>\n",
       "      <th>Classificacao</th>\n",
       "      <th>...</th>\n",
       "      <th>ViagemBrasil</th>\n",
       "      <th>ViagemInternacional</th>\n",
       "      <th>ProfissionalSaude</th>\n",
       "      <th>PossuiDeficiencia</th>\n",
       "      <th>MoradorDeRua</th>\n",
       "      <th>ResultadoRT_PCR</th>\n",
       "      <th>ResultadoTesteRapido</th>\n",
       "      <th>ResultadoSorologia</th>\n",
       "      <th>ResultadoSorologia_IGG</th>\n",
       "      <th>TipoTesteRapido</th>\n",
       "    </tr>\n",
       "  </thead>\n",
       "  <tbody>\n",
       "    <tr>\n",
       "      <th>0</th>\n",
       "      <td>2023-04-07</td>\n",
       "      <td>2023-04-07</td>\n",
       "      <td>2023-04-05</td>\n",
       "      <td>NaN</td>\n",
       "      <td>2023-04-07</td>\n",
       "      <td>NaN</td>\n",
       "      <td>NaN</td>\n",
       "      <td>NaN</td>\n",
       "      <td>NaN</td>\n",
       "      <td>Suspeito</td>\n",
       "      <td>...</td>\n",
       "      <td>Não</td>\n",
       "      <td>Não</td>\n",
       "      <td>Não</td>\n",
       "      <td>Não</td>\n",
       "      <td>Não</td>\n",
       "      <td>Não Informado</td>\n",
       "      <td>Positivo</td>\n",
       "      <td>Não Informado</td>\n",
       "      <td>Não Informado</td>\n",
       "      <td>Teste rápido Antígeno</td>\n",
       "    </tr>\n",
       "    <tr>\n",
       "      <th>1</th>\n",
       "      <td>2023-04-07</td>\n",
       "      <td>2023-04-07</td>\n",
       "      <td>2023-04-06</td>\n",
       "      <td>NaN</td>\n",
       "      <td>2023-04-07</td>\n",
       "      <td>NaN</td>\n",
       "      <td>NaN</td>\n",
       "      <td>NaN</td>\n",
       "      <td>NaN</td>\n",
       "      <td>Síndrome Gripal não Especificada</td>\n",
       "      <td>...</td>\n",
       "      <td>Não</td>\n",
       "      <td>Não</td>\n",
       "      <td>Não</td>\n",
       "      <td>Não</td>\n",
       "      <td>Não</td>\n",
       "      <td>Não Informado</td>\n",
       "      <td>Negativo</td>\n",
       "      <td>Não Informado</td>\n",
       "      <td>Não Informado</td>\n",
       "      <td>Teste rápido Antígeno</td>\n",
       "    </tr>\n",
       "  </tbody>\n",
       "</table>\n",
       "<p>2 rows × 45 columns</p>\n",
       "</div>"
      ],
      "text/plain": [
       "  DataNotificacao DataCadastro DataDiagnostico DataColeta_RT_PCR   \n",
       "0      2023-04-07   2023-04-07      2023-04-05               NaN  \\\n",
       "1      2023-04-07   2023-04-07      2023-04-06               NaN   \n",
       "\n",
       "  DataColetaTesteRapido DataColetaSorologia DataColetaSorologiaIGG   \n",
       "0            2023-04-07                 NaN                    NaN  \\\n",
       "1            2023-04-07                 NaN                    NaN   \n",
       "\n",
       "  DataEncerramento DataObito                     Classificacao  ...   \n",
       "0              NaN       NaN                          Suspeito  ...  \\\n",
       "1              NaN       NaN  Síndrome Gripal não Especificada  ...   \n",
       "\n",
       "  ViagemBrasil ViagemInternacional ProfissionalSaude PossuiDeficiencia   \n",
       "0          Não                 Não               Não               Não  \\\n",
       "1          Não                 Não               Não               Não   \n",
       "\n",
       "  MoradorDeRua ResultadoRT_PCR ResultadoTesteRapido ResultadoSorologia   \n",
       "0          Não   Não Informado             Positivo      Não Informado  \\\n",
       "1          Não   Não Informado             Negativo      Não Informado   \n",
       "\n",
       "  ResultadoSorologia_IGG        TipoTesteRapido  \n",
       "0          Não Informado  Teste rápido Antígeno  \n",
       "1          Não Informado  Teste rápido Antígeno  \n",
       "\n",
       "[2 rows x 45 columns]"
      ]
     },
     "execution_count": 8,
     "metadata": {},
     "output_type": "execute_result"
    }
   ],
   "source": [
    "df.head(2)"
   ]
  },
  {
   "cell_type": "code",
   "execution_count": 9,
   "id": "4ed106a2",
   "metadata": {},
   "outputs": [
    {
     "data": {
      "text/plain": [
       "Index(['DataNotificacao', 'DataCadastro', 'DataDiagnostico',\n",
       "       'DataColeta_RT_PCR', 'DataColetaTesteRapido', 'DataColetaSorologia',\n",
       "       'DataColetaSorologiaIGG', 'DataEncerramento', 'DataObito',\n",
       "       'Classificacao', 'Evolucao', 'CriterioConfirmacao', 'StatusNotificacao',\n",
       "       'Municipio', 'Bairro', 'FaixaEtaria', 'IdadeNaDataNotificacao', 'Sexo',\n",
       "       'RacaCor', 'Escolaridade', 'Gestante', 'Febre',\n",
       "       'DificuldadeRespiratoria', 'Tosse', 'Coriza', 'DorGarganta', 'Diarreia',\n",
       "       'Cefaleia', 'ComorbidadePulmao', 'ComorbidadeCardio',\n",
       "       'ComorbidadeRenal', 'ComorbidadeDiabetes', 'ComorbidadeTabagismo',\n",
       "       'ComorbidadeObesidade', 'FicouInternado', 'ViagemBrasil',\n",
       "       'ViagemInternacional', 'ProfissionalSaude', 'PossuiDeficiencia',\n",
       "       'MoradorDeRua', 'ResultadoRT_PCR', 'ResultadoTesteRapido',\n",
       "       'ResultadoSorologia', 'ResultadoSorologia_IGG', 'TipoTesteRapido'],\n",
       "      dtype='object')"
      ]
     },
     "execution_count": 9,
     "metadata": {},
     "output_type": "execute_result"
    }
   ],
   "source": [
    "df.columns"
   ]
  },
  {
   "cell_type": "code",
   "execution_count": 10,
   "id": "2175a7e0",
   "metadata": {},
   "outputs": [
    {
     "data": {
      "text/plain": [
       "DataNotificacao                  0\n",
       "DataCadastro                     0\n",
       "DataDiagnostico                  0\n",
       "DataColeta_RT_PCR          3265504\n",
       "DataColetaTesteRapido      1806710\n",
       "DataColetaSorologia        4672557\n",
       "DataColetaSorologiaIGG     4625791\n",
       "DataEncerramento            265943\n",
       "DataObito                  4750777\n",
       "Classificacao                    0\n",
       "Evolucao                         0\n",
       "CriterioConfirmacao              0\n",
       "StatusNotificacao                0\n",
       "Municipio                        0\n",
       "Bairro                       42773\n",
       "FaixaEtaria                      0\n",
       "IdadeNaDataNotificacao           0\n",
       "Sexo                             0\n",
       "RacaCor                          0\n",
       "Escolaridade                     0\n",
       "Gestante                         0\n",
       "Febre                            0\n",
       "DificuldadeRespiratoria          0\n",
       "Tosse                            0\n",
       "Coriza                           0\n",
       "DorGarganta                      0\n",
       "Diarreia                         0\n",
       "Cefaleia                         0\n",
       "ComorbidadePulmao                0\n",
       "ComorbidadeCardio                0\n",
       "ComorbidadeRenal                 0\n",
       "ComorbidadeDiabetes              0\n",
       "ComorbidadeTabagismo             0\n",
       "ComorbidadeObesidade             0\n",
       "FicouInternado                   0\n",
       "ViagemBrasil                     0\n",
       "ViagemInternacional              0\n",
       "ProfissionalSaude                0\n",
       "PossuiDeficiencia                0\n",
       "MoradorDeRua                     0\n",
       "ResultadoRT_PCR                  0\n",
       "ResultadoTesteRapido             0\n",
       "ResultadoSorologia               0\n",
       "ResultadoSorologia_IGG           0\n",
       "TipoTesteRapido                  0\n",
       "dtype: int64"
      ]
     },
     "execution_count": 10,
     "metadata": {},
     "output_type": "execute_result"
    }
   ],
   "source": [
    "df.isnull().sum()"
   ]
  },
  {
   "cell_type": "code",
   "execution_count": 11,
   "id": "01c774ff",
   "metadata": {},
   "outputs": [
    {
     "data": {
      "text/plain": [
       "array(['F', 'M', 'I'], dtype=object)"
      ]
     },
     "execution_count": 11,
     "metadata": {},
     "output_type": "execute_result"
    }
   ],
   "source": [
    "df['Sexo'].unique()"
   ]
  },
  {
   "cell_type": "code",
   "execution_count": 20,
   "id": "31a6a769",
   "metadata": {},
   "outputs": [
    {
     "data": {
      "text/plain": [
       "array(['40 a 49 anos', '90 anos ou mais', '20 a 29 anos', '05 a 9 anos',\n",
       "       '30 a 39 anos', '0 a 4 anos', '50 a 59 anos', '60 a 69 anos',\n",
       "       '10 a 19 anos', '80 a 89 anos', '70 a 79 anos', '-'], dtype=object)"
      ]
     },
     "execution_count": 20,
     "metadata": {},
     "output_type": "execute_result"
    }
   ],
   "source": [
    "df['FaixaEtaria'].unique()"
   ]
  },
  {
   "cell_type": "code",
   "execution_count": 21,
   "id": "fc16bdbd",
   "metadata": {},
   "outputs": [
    {
     "data": {
      "text/plain": [
       "array(['Parda', 'Branca', 'Ignorado', 'Preta', 'Amarela', 'Indigena'],\n",
       "      dtype=object)"
      ]
     },
     "execution_count": 21,
     "metadata": {},
     "output_type": "execute_result"
    }
   ],
   "source": [
    "df['RacaCor'].unique()"
   ]
  },
  {
   "cell_type": "code",
   "execution_count": null,
   "id": "15bf5a3e",
   "metadata": {},
   "outputs": [],
   "source": [
    "df['FaixaEtaria'].value_counts()"
   ]
  },
  {
   "cell_type": "code",
   "execution_count": null,
   "id": "798f69b7",
   "metadata": {},
   "outputs": [],
   "source": [
    "df['FaixaEtaria'](0:)"
   ]
  },
  {
   "cell_type": "code",
   "execution_count": 12,
   "id": "34e0fca0",
   "metadata": {},
   "outputs": [
    {
     "data": {
      "text/plain": [
       "array(['VITORIA', 'VILA VELHA', 'PRESIDENTE KENNEDY', ..., 'ORLANDIA',\n",
       "       'ITANHANDU', 'CAMPO MOURAO'], dtype=object)"
      ]
     },
     "execution_count": 12,
     "metadata": {},
     "output_type": "execute_result"
    }
   ],
   "source": [
    "df['Municipio'].unique()"
   ]
  }
 ],
 "metadata": {
  "kernelspec": {
   "display_name": "Python 3 (ipykernel)",
   "language": "python",
   "name": "python3"
  },
  "language_info": {
   "codemirror_mode": {
    "name": "ipython",
    "version": 3
   },
   "file_extension": ".py",
   "mimetype": "text/x-python",
   "name": "python",
   "nbconvert_exporter": "python",
   "pygments_lexer": "ipython3",
   "version": "3.10.11"
  }
 },
 "nbformat": 4,
 "nbformat_minor": 5
}
